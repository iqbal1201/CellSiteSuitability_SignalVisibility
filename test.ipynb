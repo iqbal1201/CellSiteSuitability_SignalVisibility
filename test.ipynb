{
 "cells": [
  {
   "cell_type": "code",
   "execution_count": 9,
   "metadata": {},
   "outputs": [],
   "source": [
    "string_n = \"000-01 'Residential Area' 000-02 'Building'\""
   ]
  },
  {
   "cell_type": "code",
   "execution_count": 53,
   "metadata": {},
   "outputs": [],
   "source": [
    "def parsing_num(fieldcat, no_order):\n",
    "    if ';' in fieldcat:\n",
    "         if no_order -1 < len(fieldcat.split(\"; \")):\n",
    "              result_pars = fieldcat.split(\"; \")[no_order - 1]\n",
    "              result_pars_n = result_pars.split(\" '\")[0]\n",
    "              return result_pars_n\n",
    "         else:\n",
    "              return None\n",
    "    else:\n",
    "         if no_order != 1:\n",
    "              return None\n",
    "         else:\n",
    "              result_pars_n = fieldcat.split(\" '\")[0]\n",
    "              return result_pars_n\n",
    "\n",
    "\n",
    "def parsing_cat(fieldcat, no_order):\n",
    "     if ';' in fieldcat:\n",
    "          if no_order -1 < len(fieldcat.split(\"; \")):\n",
    "               result_pars = fieldcat.split(\"; \")[no_order -1]\n",
    "               result_pars_n = result_pars.split(\" '\")[1]\n",
    "               return result_pars_n.replace(\"'\", \"\")\n",
    "          else:\n",
    "              return None\n",
    "     else:\n",
    "          if no_order != 1:\n",
    "               return None\n",
    "               \n",
    "          else:\n",
    "              result_pars_n = fieldcat.split(\" '\")[1]\n",
    "              return result_pars_n.replace(\"'\", \"\")\n",
    "         "
   ]
  },
  {
   "cell_type": "code",
   "execution_count": 46,
   "metadata": {},
   "outputs": [],
   "source": [
    "string_1 = \"000-01 'Residential Area' 000-02 'Building'\"\n",
    "string_2 = \"000-01 'Residential Area'; 000-02 'Building'\"\n",
    "string_3 = \"000-01 'Residential Area'\"\n",
    "string_4 = \"000-01 'Residential Area'; 000-02 'Building'; 000-11 'Park'\""
   ]
  },
  {
   "cell_type": "code",
   "execution_count": 57,
   "metadata": {},
   "outputs": [
    {
     "data": {
      "text/plain": [
       "'Building'"
      ]
     },
     "execution_count": 57,
     "metadata": {},
     "output_type": "execute_result"
    }
   ],
   "source": [
    "parsing_cat(string_2, no_order =2)"
   ]
  }
 ],
 "metadata": {
  "kernelspec": {
   "display_name": "base",
   "language": "python",
   "name": "python3"
  },
  "language_info": {
   "codemirror_mode": {
    "name": "ipython",
    "version": 3
   },
   "file_extension": ".py",
   "mimetype": "text/x-python",
   "name": "python",
   "nbconvert_exporter": "python",
   "pygments_lexer": "ipython3",
   "version": "3.9.0"
  },
  "orig_nbformat": 4
 },
 "nbformat": 4,
 "nbformat_minor": 2
}
